{
 "cells": [
  {
   "cell_type": "code",
   "execution_count": 1,
   "id": "a394122d",
   "metadata": {},
   "outputs": [],
   "source": [
    "from tensorflow import keras\n",
    "import numpy as np\n",
    "import matplotlib.pyplot as plt"
   ]
  },
  {
   "cell_type": "code",
   "execution_count": 2,
   "id": "5261b7b6",
   "metadata": {},
   "outputs": [
    {
     "name": "stdout",
     "output_type": "stream",
     "text": [
      "5266\n"
     ]
    }
   ],
   "source": [
    "import pandas as pd\n",
    "import os\n",
    "df = pd.read_csv('dataset_test.csv',sep=';')\n",
    "def dfdel(value):\n",
    "    return len(eval(value))\n",
    "print(len(df))"
   ]
  },
  {
   "cell_type": "code",
   "execution_count": 3,
   "id": "c42d9ae5",
   "metadata": {},
   "outputs": [],
   "source": [
    "def make_model(input_shape):\n",
    "    input_layer = keras.layers.Input(input_shape)\n",
    "\n",
    "    conv1 = keras.layers.Conv1D(filters=64, kernel_size=3, padding=\"same\")(input_layer)\n",
    "    conv1 = keras.layers.BatchNormalization()(conv1)\n",
    "    conv1 = keras.layers.ReLU()(conv1)\n",
    "\n",
    "    conv2 = keras.layers.Conv1D(filters=64, kernel_size=3, padding=\"same\")(conv1)\n",
    "    conv2 = keras.layers.BatchNormalization()(conv2)\n",
    "    conv2 = keras.layers.ReLU()(conv2)\n",
    "\n",
    "    conv3 = keras.layers.Conv1D(filters=64, kernel_size=3, padding=\"same\")(conv2)\n",
    "    conv3 = keras.layers.BatchNormalization()(conv3)\n",
    "    conv3 = keras.layers.ReLU()(conv3)\n",
    "\n",
    "    gap = keras.layers.GlobalAveragePooling1D()(conv3)\n",
    "\n",
    "    output_layer = keras.layers.Dense(num_classes, activation=\"softmax\")(gap)\n",
    "\n",
    "    return keras.models.Model(inputs=input_layer, outputs=output_layer)\n",
    "from sklearn.model_selection import train_test_split"
   ]
  },
  {
   "cell_type": "code",
   "execution_count": 4,
   "id": "9a66fc17",
   "metadata": {},
   "outputs": [],
   "source": [
    "names = df['Filename'].unique()\n",
    "files = os.listdir('person')\n",
    "for i in range(len(files)):\n",
    "    files[i]=files[i][:-3]"
   ]
  },
  {
   "cell_type": "code",
   "execution_count": 5,
   "id": "6084ed74",
   "metadata": {},
   "outputs": [],
   "source": [
    "X = df['Data']\n",
    "X2 = df['Data_2']\n",
    "ID = df['id']\n",
    "Y = []\n",
    "X=list(X)\n",
    "def convX(X):\n",
    "    for i in range(len(X)):\n",
    "     X[i]=list(eval(X[i]))\n",
    "    return np.array(X)\n",
    "X = convX(X)\n",
    "X = X.reshape((X.shape[0], X.shape[1], 1))"
   ]
  },
  {
   "cell_type": "code",
   "execution_count": 6,
   "id": "84623866",
   "metadata": {},
   "outputs": [],
   "source": [
    "model = keras.models.load_model(\"best_model_v2_data.h5\")\n",
    "model2 = keras.models.load_model(\"best_model_v2_data.h5\")"
   ]
  },
  {
   "cell_type": "code",
   "execution_count": 7,
   "id": "539df2bb",
   "metadata": {},
   "outputs": [
    {
     "name": "stdout",
     "output_type": "stream",
     "text": [
      "165/165 [==============================] - 1s 4ms/step\n",
      "165/165 [==============================] - 1s 4ms/step\n"
     ]
    }
   ],
   "source": [
    "y1 = model.predict(X)\n",
    "y2 = model2.predict(X)"
   ]
  },
  {
   "cell_type": "code",
   "execution_count": 8,
   "id": "5c173b8a",
   "metadata": {},
   "outputs": [],
   "source": [
    "y_pred1=[]\n",
    "y_pred2=[]\n",
    "for i in range(len(y1)):\n",
    "    y_pred1.append(np.argmax(y1[i]))\n",
    "    y_pred2.append(np.argmax(y2[i]))"
   ]
  },
  {
   "cell_type": "code",
   "execution_count": 9,
   "id": "fcbcaeb4",
   "metadata": {},
   "outputs": [],
   "source": [
    "y_res = []\n",
    "for i in range(len(y_pred1)):\n",
    "    if y_pred1[i]==y_pred2[i]:\n",
    "        y_res.append(y_pred1[i])\n",
    "    else:\n",
    "        yy1=y1[i]\n",
    "        yy2=y2[i]\n",
    "        for i in range(len(yy1)):\n",
    "            yy1[i]=yy1[i]+yy2[i]\n",
    "        y_res.append(np.argmax(yy1[i]))"
   ]
  },
  {
   "cell_type": "code",
   "execution_count": 10,
   "id": "cdf114a6",
   "metadata": {},
   "outputs": [
    {
     "data": {
      "text/plain": [
       "{0, 1, 2}"
      ]
     },
     "execution_count": 10,
     "metadata": {},
     "output_type": "execute_result"
    }
   ],
   "source": [
    "set(y_res)"
   ]
  },
  {
   "cell_type": "code",
   "execution_count": 14,
   "id": "87349920",
   "metadata": {},
   "outputs": [],
   "source": [
    "_id = list(ID)"
   ]
  },
  {
   "cell_type": "code",
   "execution_count": 15,
   "id": "4f7abf4a",
   "metadata": {},
   "outputs": [],
   "source": [
    "result = pd.DataFrame({'id':_id,'Class_label':y_res})"
   ]
  },
  {
   "cell_type": "code",
   "execution_count": 16,
   "id": "772939ed",
   "metadata": {},
   "outputs": [],
   "source": [
    "result.to_csv('cyber.csv',sep=';',index=False)"
   ]
  },
  {
   "cell_type": "code",
   "execution_count": null,
   "id": "1abfcc24",
   "metadata": {},
   "outputs": [],
   "source": []
  }
 ],
 "metadata": {
  "kernelspec": {
   "display_name": "Python 3 (ipykernel)",
   "language": "python",
   "name": "python3"
  },
  "language_info": {
   "codemirror_mode": {
    "name": "ipython",
    "version": 3
   },
   "file_extension": ".py",
   "mimetype": "text/x-python",
   "name": "python",
   "nbconvert_exporter": "python",
   "pygments_lexer": "ipython3",
   "version": "3.9.12"
  }
 },
 "nbformat": 4,
 "nbformat_minor": 5
}
