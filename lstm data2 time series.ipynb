{
 "cells": [
  {
   "cell_type": "code",
   "execution_count": 1,
   "id": "cb518a75",
   "metadata": {},
   "outputs": [],
   "source": [
    "from tensorflow import keras\n",
    "import numpy as np\n",
    "import matplotlib.pyplot as plt"
   ]
  },
  {
   "cell_type": "code",
   "execution_count": 2,
   "id": "5261b7b6",
   "metadata": {},
   "outputs": [
    {
     "name": "stdout",
     "output_type": "stream",
     "text": [
      "31383\n"
     ]
    }
   ],
   "source": [
    "import pandas as pd\n",
    "import os\n",
    "df = pd.read_csv('dataset_train.csv',sep=';')\n",
    "def dfdel(value):\n",
    "    return len(eval(value))\n",
    "print(len(df))\n",
    "df = df[df['Data_2'].map(dfdel)!=0]\n",
    "df = df[df['Data_2'].map(dfdel)==240]"
   ]
  },
  {
   "cell_type": "code",
   "execution_count": 3,
   "id": "9d3ced09",
   "metadata": {},
   "outputs": [
    {
     "data": {
      "text/plain": [
       "6385"
      ]
     },
     "execution_count": 3,
     "metadata": {},
     "output_type": "execute_result"
    }
   ],
   "source": [
    "class0 = df[df['Class_label']==0]\n",
    "class1 = df[df['Class_label']==1]\n",
    "class2 = df[df['Class_label']==2]\n",
    "count = [len(class0),len(class1),len(class2)]\n",
    "min(count)"
   ]
  },
  {
   "cell_type": "code",
   "execution_count": 4,
   "id": "5620009c",
   "metadata": {},
   "outputs": [],
   "source": [
    "data = pd.concat([class0[:min(count)-1],class1[:min(count)-1],class2[:min(count)-1]])"
   ]
  },
  {
   "cell_type": "code",
   "execution_count": 5,
   "id": "d83bd221",
   "metadata": {},
   "outputs": [
    {
     "data": {
      "text/html": [
       "<div>\n",
       "<style scoped>\n",
       "    .dataframe tbody tr th:only-of-type {\n",
       "        vertical-align: middle;\n",
       "    }\n",
       "\n",
       "    .dataframe tbody tr th {\n",
       "        vertical-align: top;\n",
       "    }\n",
       "\n",
       "    .dataframe thead th {\n",
       "        text-align: right;\n",
       "    }\n",
       "</style>\n",
       "<table border=\"1\" class=\"dataframe\">\n",
       "  <thead>\n",
       "    <tr style=\"text-align: right;\">\n",
       "      <th></th>\n",
       "      <th>Filename</th>\n",
       "      <th>Test_index</th>\n",
       "      <th>Presentation</th>\n",
       "      <th>Question</th>\n",
       "      <th>Data</th>\n",
       "      <th>Data_2</th>\n",
       "      <th>Class_label</th>\n",
       "    </tr>\n",
       "  </thead>\n",
       "  <tbody>\n",
       "    <tr>\n",
       "      <th>0</th>\n",
       "      <td>6ffe4933-3202-451b-ae6b-fee85cafc829</td>\n",
       "      <td>2</td>\n",
       "      <td>3</td>\n",
       "      <td>7</td>\n",
       "      <td>[298, 296, 2, -455, -703, -596, -262, -44, 28,...</td>\n",
       "      <td>[-918, -1078, -450, 640, 1503, 1635, 1083, 589...</td>\n",
       "      <td>1</td>\n",
       "    </tr>\n",
       "    <tr>\n",
       "      <th>1</th>\n",
       "      <td>8de3189c-8e95-43a2-b6d2-743f097a57fb</td>\n",
       "      <td>0</td>\n",
       "      <td>1</td>\n",
       "      <td>0</td>\n",
       "      <td>[99, 75, -228, -588, -583, -465, -394, -363, -...</td>\n",
       "      <td>[499, 494, 520, 577, 595, 584, 575, 567, 561, ...</td>\n",
       "      <td>0</td>\n",
       "    </tr>\n",
       "    <tr>\n",
       "      <th>2</th>\n",
       "      <td>c74f5292-c8e8-4ef2-a963-7d035e5e3330</td>\n",
       "      <td>3</td>\n",
       "      <td>3</td>\n",
       "      <td>1</td>\n",
       "      <td>[-369, -543, -644, -670, -636, -586, -524, -44...</td>\n",
       "      <td>[263, 444, 548, 576, 539, 485, 419, 331, 266, ...</td>\n",
       "      <td>2</td>\n",
       "    </tr>\n",
       "    <tr>\n",
       "      <th>3</th>\n",
       "      <td>c856d82f-917e-461c-a91f-5298926b8b31</td>\n",
       "      <td>0</td>\n",
       "      <td>3</td>\n",
       "      <td>6</td>\n",
       "      <td>[-6, -32, -152, -253, -275, -246, -211, -197, ...</td>\n",
       "      <td>[2, 138, 782, 1314, 1471, 1354, 1183, 1127, 10...</td>\n",
       "      <td>1</td>\n",
       "    </tr>\n",
       "    <tr>\n",
       "      <th>4</th>\n",
       "      <td>00b38188-82ee-4f1d-9661-485338815751</td>\n",
       "      <td>3</td>\n",
       "      <td>1</td>\n",
       "      <td>2</td>\n",
       "      <td>[165, 178, 190, 202, 218, 230, 200, 121, 71, 8...</td>\n",
       "      <td>[-722, -711, -700, -686, -669, -665, -712, -79...</td>\n",
       "      <td>2</td>\n",
       "    </tr>\n",
       "  </tbody>\n",
       "</table>\n",
       "</div>"
      ],
      "text/plain": [
       "                               Filename  Test_index  Presentation  Question  \\\n",
       "0  6ffe4933-3202-451b-ae6b-fee85cafc829           2             3         7   \n",
       "1  8de3189c-8e95-43a2-b6d2-743f097a57fb           0             1         0   \n",
       "2  c74f5292-c8e8-4ef2-a963-7d035e5e3330           3             3         1   \n",
       "3  c856d82f-917e-461c-a91f-5298926b8b31           0             3         6   \n",
       "4  00b38188-82ee-4f1d-9661-485338815751           3             1         2   \n",
       "\n",
       "                                                Data  \\\n",
       "0  [298, 296, 2, -455, -703, -596, -262, -44, 28,...   \n",
       "1  [99, 75, -228, -588, -583, -465, -394, -363, -...   \n",
       "2  [-369, -543, -644, -670, -636, -586, -524, -44...   \n",
       "3  [-6, -32, -152, -253, -275, -246, -211, -197, ...   \n",
       "4  [165, 178, 190, 202, 218, 230, 200, 121, 71, 8...   \n",
       "\n",
       "                                              Data_2  Class_label  \n",
       "0  [-918, -1078, -450, 640, 1503, 1635, 1083, 589...            1  \n",
       "1  [499, 494, 520, 577, 595, 584, 575, 567, 561, ...            0  \n",
       "2  [263, 444, 548, 576, 539, 485, 419, 331, 266, ...            2  \n",
       "3  [2, 138, 782, 1314, 1471, 1354, 1183, 1127, 10...            1  \n",
       "4  [-722, -711, -700, -686, -669, -665, -712, -79...            2  "
      ]
     },
     "execution_count": 5,
     "metadata": {},
     "output_type": "execute_result"
    }
   ],
   "source": [
    "df.head()"
   ]
  },
  {
   "cell_type": "code",
   "execution_count": 6,
   "id": "9a66fc17",
   "metadata": {},
   "outputs": [],
   "source": [
    "from sklearn.model_selection import train_test_split\n",
    "X_train, X_test, y_train, y_test = train_test_split(data['Data_2'], data['Class_label'], test_size=0.33, random_state=42)\n",
    "y_test = np.array(y_test)\n",
    "y_train = np.array(y_train)"
   ]
  },
  {
   "cell_type": "code",
   "execution_count": 7,
   "id": "e7cccfa7",
   "metadata": {},
   "outputs": [],
   "source": [
    "def normal(X):\n",
    "    _min = min(X)\n",
    "    if _min<0:\n",
    "        for i in range(len(X)):\n",
    "            X[i]=X[i]-_min\n",
    "    _max = max(X)\n",
    "    for i in range(len(X)):\n",
    "            X[i]=X[i]/_max\n",
    "    return X"
   ]
  },
  {
   "cell_type": "code",
   "execution_count": 8,
   "id": "5f237576",
   "metadata": {},
   "outputs": [
    {
     "data": {
      "text/plain": [
       "[0.5333333333333333,\n",
       " 0.6666666666666666,\n",
       " 0.8,\n",
       " 1.0,\n",
       " 0.0,\n",
       " 0.6,\n",
       " 0.13333333333333333,\n",
       " 0.4,\n",
       " 0.3333333333333333]"
      ]
     },
     "execution_count": 8,
     "metadata": {},
     "output_type": "execute_result"
    }
   ],
   "source": [
    "normal([3,5,7,10,-5,4,-3,1,0])"
   ]
  },
  {
   "cell_type": "code",
   "execution_count": 9,
   "id": "d8915405",
   "metadata": {},
   "outputs": [],
   "source": [
    "X_train=list(X_train)\n",
    "X_test=list(X_test)\n",
    "def convX(X):\n",
    "    for i in range(len(X)):\n",
    "     X[i]=list(eval(X[i]))\n",
    "    return np.array(X)\n",
    "x_train = convX(X_train)\n",
    "x_test=convX(X_test)"
   ]
  },
  {
   "cell_type": "code",
   "execution_count": 10,
   "id": "4503efcb",
   "metadata": {},
   "outputs": [
    {
     "name": "stdout",
     "output_type": "stream",
     "text": [
      "{240}\n"
     ]
    }
   ],
   "source": [
    "xx = []\n",
    "for i in x_test:\n",
    "    xx.append(len(i))\n",
    "print(set(xx))"
   ]
  },
  {
   "cell_type": "code",
   "execution_count": 11,
   "id": "a20ac65d",
   "metadata": {},
   "outputs": [],
   "source": [
    "x_train = x_train.reshape((x_train.shape[0], x_train.shape[1], 1))\n",
    "x_test = x_test.reshape((x_test.shape[0], x_test.shape[1], 1))"
   ]
  },
  {
   "cell_type": "code",
   "execution_count": 12,
   "id": "cb4b3c0e",
   "metadata": {},
   "outputs": [
    {
     "name": "stdout",
     "output_type": "stream",
     "text": [
      "3\n"
     ]
    }
   ],
   "source": [
    "num_classes = len(np.unique(y_train))\n",
    "print(num_classes)"
   ]
  },
  {
   "cell_type": "code",
   "execution_count": 13,
   "id": "fb5c21c8",
   "metadata": {},
   "outputs": [],
   "source": [
    "idx = np.random.permutation(len(x_train))\n",
    "x_train = x_train[idx]\n",
    "y_train = y_train[idx]"
   ]
  },
  {
   "cell_type": "code",
   "execution_count": 14,
   "id": "ccc1999b",
   "metadata": {},
   "outputs": [],
   "source": [
    "y_train[y_train == -1] = 0\n",
    "y_test[y_test == -1] = 0"
   ]
  },
  {
   "cell_type": "code",
   "execution_count": 15,
   "id": "36ddaeb9",
   "metadata": {},
   "outputs": [
    {
     "name": "stdout",
     "output_type": "stream",
     "text": [
      "You must install pydot (`pip install pydot`) and install graphviz (see instructions at https://graphviz.gitlab.io/download/) for plot_model/model_to_dot to work.\n"
     ]
    }
   ],
   "source": [
    "def make_model(input_shape):\n",
    "    input_layer = keras.layers.Input(input_shape)\n",
    "\n",
    "    conv1 = keras.layers.Conv1D(filters=64, kernel_size=3, padding=\"same\")(input_layer)\n",
    "    conv1 = keras.layers.BatchNormalization()(conv1)\n",
    "    conv1 = keras.layers.ReLU()(conv1)\n",
    "\n",
    "    conv2 = keras.layers.Conv1D(filters=64, kernel_size=3, padding=\"same\")(conv1)\n",
    "    conv2 = keras.layers.BatchNormalization()(conv2)\n",
    "    conv2 = keras.layers.ReLU()(conv2)\n",
    "\n",
    "    conv3 = keras.layers.Conv1D(filters=64, kernel_size=3, padding=\"same\")(conv2)\n",
    "    conv3 = keras.layers.BatchNormalization()(conv3)\n",
    "    conv3 = keras.layers.ReLU()(conv3)\n",
    "\n",
    "    gap = keras.layers.GlobalAveragePooling1D()(conv3)\n",
    "\n",
    "    output_layer = keras.layers.Dense(num_classes, activation=\"softmax\")(gap)\n",
    "\n",
    "    return keras.models.Model(inputs=input_layer, outputs=output_layer)\n",
    "\n",
    "\n",
    "model = make_model(input_shape=x_train.shape[1:])\n",
    "keras.utils.plot_model(model, show_shapes=True)"
   ]
  },
  {
   "cell_type": "code",
   "execution_count": 16,
   "id": "ea4c5108",
   "metadata": {},
   "outputs": [
    {
     "name": "stdout",
     "output_type": "stream",
     "text": [
      "Epoch 1/500\n",
      "321/321 [==============================] - 7s 20ms/step - loss: 1.1128 - sparse_categorical_accuracy: 0.3483 - val_loss: 1.1497 - val_sparse_categorical_accuracy: 0.3354 - lr: 0.0010\n",
      "Epoch 2/500\n",
      "321/321 [==============================] - 6s 20ms/step - loss: 1.1031 - sparse_categorical_accuracy: 0.3564 - val_loss: 1.1029 - val_sparse_categorical_accuracy: 0.3642 - lr: 0.0010\n",
      "Epoch 3/500\n",
      "321/321 [==============================] - 6s 20ms/step - loss: 1.1011 - sparse_categorical_accuracy: 0.3549 - val_loss: 1.0962 - val_sparse_categorical_accuracy: 0.3674 - lr: 0.0010\n",
      "Epoch 4/500\n",
      "321/321 [==============================] - 6s 20ms/step - loss: 1.0999 - sparse_categorical_accuracy: 0.3581 - val_loss: 1.1007 - val_sparse_categorical_accuracy: 0.3498 - lr: 0.0010\n",
      "Epoch 5/500\n",
      "321/321 [==============================] - 7s 22ms/step - loss: 1.0995 - sparse_categorical_accuracy: 0.3616 - val_loss: 1.1048 - val_sparse_categorical_accuracy: 0.3518 - lr: 0.0010\n",
      "Epoch 6/500\n",
      "321/321 [==============================] - 7s 23ms/step - loss: 1.0976 - sparse_categorical_accuracy: 0.3599 - val_loss: 1.1069 - val_sparse_categorical_accuracy: 0.3650 - lr: 0.0010\n",
      "Epoch 7/500\n",
      "321/321 [==============================] - 7s 23ms/step - loss: 1.0987 - sparse_categorical_accuracy: 0.3630 - val_loss: 1.1038 - val_sparse_categorical_accuracy: 0.3471 - lr: 0.0010\n",
      "Epoch 8/500\n",
      "321/321 [==============================] - 7s 22ms/step - loss: 1.0995 - sparse_categorical_accuracy: 0.3579 - val_loss: 1.1117 - val_sparse_categorical_accuracy: 0.3584 - lr: 0.0010\n",
      "Epoch 9/500\n",
      "321/321 [==============================] - 7s 22ms/step - loss: 1.0980 - sparse_categorical_accuracy: 0.3599 - val_loss: 1.1010 - val_sparse_categorical_accuracy: 0.3436 - lr: 0.0010\n",
      "Epoch 10/500\n",
      "321/321 [==============================] - 7s 22ms/step - loss: 1.0973 - sparse_categorical_accuracy: 0.3638 - val_loss: 1.0945 - val_sparse_categorical_accuracy: 0.3611 - lr: 0.0010\n",
      "Epoch 11/500\n",
      "321/321 [==============================] - 7s 22ms/step - loss: 1.0970 - sparse_categorical_accuracy: 0.3611 - val_loss: 1.0994 - val_sparse_categorical_accuracy: 0.3600 - lr: 0.0010\n",
      "Epoch 12/500\n",
      "321/321 [==============================] - 7s 22ms/step - loss: 1.0979 - sparse_categorical_accuracy: 0.3590 - val_loss: 1.1012 - val_sparse_categorical_accuracy: 0.3564 - lr: 0.0010\n",
      "Epoch 13/500\n",
      "321/321 [==============================] - 7s 22ms/step - loss: 1.0971 - sparse_categorical_accuracy: 0.3611 - val_loss: 1.0976 - val_sparse_categorical_accuracy: 0.3596 - lr: 0.0010\n",
      "Epoch 14/500\n",
      "321/321 [==============================] - 7s 22ms/step - loss: 1.0964 - sparse_categorical_accuracy: 0.3632 - val_loss: 1.0998 - val_sparse_categorical_accuracy: 0.3685 - lr: 0.0010\n",
      "Epoch 15/500\n",
      "321/321 [==============================] - 7s 22ms/step - loss: 1.0974 - sparse_categorical_accuracy: 0.3643 - val_loss: 1.0944 - val_sparse_categorical_accuracy: 0.3631 - lr: 0.0010\n",
      "Epoch 16/500\n",
      "321/321 [==============================] - 7s 22ms/step - loss: 1.0966 - sparse_categorical_accuracy: 0.3608 - val_loss: 1.1024 - val_sparse_categorical_accuracy: 0.3564 - lr: 0.0010\n",
      "Epoch 17/500\n",
      "321/321 [==============================] - 7s 22ms/step - loss: 1.0955 - sparse_categorical_accuracy: 0.3701 - val_loss: 1.0996 - val_sparse_categorical_accuracy: 0.3623 - lr: 0.0010\n",
      "Epoch 18/500\n",
      "321/321 [==============================] - 7s 22ms/step - loss: 1.0956 - sparse_categorical_accuracy: 0.3734 - val_loss: 1.1044 - val_sparse_categorical_accuracy: 0.3654 - lr: 0.0010\n",
      "Epoch 19/500\n",
      "321/321 [==============================] - 7s 22ms/step - loss: 1.0956 - sparse_categorical_accuracy: 0.3667 - val_loss: 1.0938 - val_sparse_categorical_accuracy: 0.3564 - lr: 0.0010\n",
      "Epoch 20/500\n",
      "321/321 [==============================] - 7s 22ms/step - loss: 1.0974 - sparse_categorical_accuracy: 0.3620 - val_loss: 1.0948 - val_sparse_categorical_accuracy: 0.3732 - lr: 0.0010\n",
      "Epoch 21/500\n",
      "321/321 [==============================] - 7s 22ms/step - loss: 1.0959 - sparse_categorical_accuracy: 0.3689 - val_loss: 1.0974 - val_sparse_categorical_accuracy: 0.3732 - lr: 0.0010\n",
      "Epoch 22/500\n",
      "321/321 [==============================] - 7s 22ms/step - loss: 1.0964 - sparse_categorical_accuracy: 0.3695 - val_loss: 1.1072 - val_sparse_categorical_accuracy: 0.3553 - lr: 0.0010\n",
      "Epoch 23/500\n",
      "321/321 [==============================] - 7s 22ms/step - loss: 1.0958 - sparse_categorical_accuracy: 0.3662 - val_loss: 1.1106 - val_sparse_categorical_accuracy: 0.3619 - lr: 0.0010\n",
      "Epoch 24/500\n",
      "321/321 [==============================] - 7s 22ms/step - loss: 1.0957 - sparse_categorical_accuracy: 0.3669 - val_loss: 1.1011 - val_sparse_categorical_accuracy: 0.3720 - lr: 0.0010\n",
      "Epoch 25/500\n",
      "321/321 [==============================] - 7s 22ms/step - loss: 1.0951 - sparse_categorical_accuracy: 0.3661 - val_loss: 1.1014 - val_sparse_categorical_accuracy: 0.3541 - lr: 0.0010\n",
      "Epoch 26/500\n",
      "321/321 [==============================] - 7s 22ms/step - loss: 1.0947 - sparse_categorical_accuracy: 0.3659 - val_loss: 1.0965 - val_sparse_categorical_accuracy: 0.3685 - lr: 0.0010\n",
      "Epoch 27/500\n",
      "321/321 [==============================] - 7s 22ms/step - loss: 1.0951 - sparse_categorical_accuracy: 0.3688 - val_loss: 1.0953 - val_sparse_categorical_accuracy: 0.3561 - lr: 0.0010\n",
      "Epoch 28/500\n",
      "321/321 [==============================] - 7s 22ms/step - loss: 1.0944 - sparse_categorical_accuracy: 0.3684 - val_loss: 1.1048 - val_sparse_categorical_accuracy: 0.3670 - lr: 0.0010\n",
      "Epoch 29/500\n",
      "321/321 [==============================] - 7s 22ms/step - loss: 1.0957 - sparse_categorical_accuracy: 0.3674 - val_loss: 1.1016 - val_sparse_categorical_accuracy: 0.3502 - lr: 0.0010\n",
      "Epoch 30/500\n",
      "321/321 [==============================] - 7s 22ms/step - loss: 1.0949 - sparse_categorical_accuracy: 0.3677 - val_loss: 1.0964 - val_sparse_categorical_accuracy: 0.3662 - lr: 0.0010\n",
      "Epoch 31/500\n",
      "321/321 [==============================] - 7s 22ms/step - loss: 1.0955 - sparse_categorical_accuracy: 0.3654 - val_loss: 1.0972 - val_sparse_categorical_accuracy: 0.3763 - lr: 0.0010\n",
      "Epoch 32/500\n",
      "321/321 [==============================] - 7s 22ms/step - loss: 1.0955 - sparse_categorical_accuracy: 0.3684 - val_loss: 1.0935 - val_sparse_categorical_accuracy: 0.3650 - lr: 0.0010\n",
      "Epoch 33/500\n",
      "321/321 [==============================] - 7s 22ms/step - loss: 1.0947 - sparse_categorical_accuracy: 0.3725 - val_loss: 1.0980 - val_sparse_categorical_accuracy: 0.3502 - lr: 0.0010\n",
      "Epoch 34/500\n",
      "321/321 [==============================] - 7s 22ms/step - loss: 1.0948 - sparse_categorical_accuracy: 0.3720 - val_loss: 1.0963 - val_sparse_categorical_accuracy: 0.3662 - lr: 0.0010\n",
      "Epoch 35/500\n",
      "321/321 [==============================] - 7s 22ms/step - loss: 1.0940 - sparse_categorical_accuracy: 0.3722 - val_loss: 1.0995 - val_sparse_categorical_accuracy: 0.3557 - lr: 0.0010\n",
      "Epoch 36/500\n",
      "321/321 [==============================] - 7s 22ms/step - loss: 1.0940 - sparse_categorical_accuracy: 0.3758 - val_loss: 1.0961 - val_sparse_categorical_accuracy: 0.3619 - lr: 0.0010\n",
      "Epoch 37/500\n",
      "321/321 [==============================] - 7s 22ms/step - loss: 1.0939 - sparse_categorical_accuracy: 0.3743 - val_loss: 1.0968 - val_sparse_categorical_accuracy: 0.3744 - lr: 0.0010\n",
      "Epoch 38/500\n",
      "321/321 [==============================] - 7s 22ms/step - loss: 1.0943 - sparse_categorical_accuracy: 0.3766 - val_loss: 1.0971 - val_sparse_categorical_accuracy: 0.3584 - lr: 0.0010\n",
      "Epoch 39/500\n",
      "321/321 [==============================] - 7s 22ms/step - loss: 1.0937 - sparse_categorical_accuracy: 0.3714 - val_loss: 1.0987 - val_sparse_categorical_accuracy: 0.3689 - lr: 0.0010\n",
      "Epoch 40/500\n",
      "321/321 [==============================] - 7s 23ms/step - loss: 1.0944 - sparse_categorical_accuracy: 0.3699 - val_loss: 1.0933 - val_sparse_categorical_accuracy: 0.3787 - lr: 0.0010\n",
      "Epoch 41/500\n",
      "321/321 [==============================] - 7s 23ms/step - loss: 1.0950 - sparse_categorical_accuracy: 0.3669 - val_loss: 1.0922 - val_sparse_categorical_accuracy: 0.3732 - lr: 0.0010\n",
      "Epoch 42/500\n",
      "321/321 [==============================] - 7s 23ms/step - loss: 1.0933 - sparse_categorical_accuracy: 0.3704 - val_loss: 1.0945 - val_sparse_categorical_accuracy: 0.3709 - lr: 0.0010\n"
     ]
    },
    {
     "name": "stdout",
     "output_type": "stream",
     "text": [
      "Epoch 43/500\n",
      "321/321 [==============================] - 7s 22ms/step - loss: 1.0938 - sparse_categorical_accuracy: 0.3730 - val_loss: 1.0941 - val_sparse_categorical_accuracy: 0.3646 - lr: 0.0010\n",
      "Epoch 44/500\n",
      "321/321 [==============================] - 7s 22ms/step - loss: 1.0927 - sparse_categorical_accuracy: 0.3744 - val_loss: 1.1009 - val_sparse_categorical_accuracy: 0.3705 - lr: 0.0010\n",
      "Epoch 45/500\n",
      "321/321 [==============================] - 7s 22ms/step - loss: 1.0935 - sparse_categorical_accuracy: 0.3713 - val_loss: 1.0933 - val_sparse_categorical_accuracy: 0.3689 - lr: 0.0010\n",
      "Epoch 46/500\n",
      "321/321 [==============================] - 7s 22ms/step - loss: 1.0938 - sparse_categorical_accuracy: 0.3777 - val_loss: 1.0936 - val_sparse_categorical_accuracy: 0.3705 - lr: 0.0010\n",
      "Epoch 47/500\n",
      "321/321 [==============================] - 7s 22ms/step - loss: 1.0938 - sparse_categorical_accuracy: 0.3728 - val_loss: 1.0994 - val_sparse_categorical_accuracy: 0.3728 - lr: 0.0010\n",
      "Epoch 48/500\n",
      "321/321 [==============================] - 7s 22ms/step - loss: 1.0924 - sparse_categorical_accuracy: 0.3734 - val_loss: 1.0932 - val_sparse_categorical_accuracy: 0.3751 - lr: 0.0010\n",
      "Epoch 49/500\n",
      "321/321 [==============================] - 7s 22ms/step - loss: 1.0929 - sparse_categorical_accuracy: 0.3787 - val_loss: 1.0990 - val_sparse_categorical_accuracy: 0.3744 - lr: 0.0010\n",
      "Epoch 50/500\n",
      "321/321 [==============================] - 7s 22ms/step - loss: 1.0925 - sparse_categorical_accuracy: 0.3777 - val_loss: 1.0948 - val_sparse_categorical_accuracy: 0.3670 - lr: 0.0010\n",
      "Epoch 51/500\n",
      "321/321 [==============================] - 7s 22ms/step - loss: 1.0933 - sparse_categorical_accuracy: 0.3766 - val_loss: 1.0933 - val_sparse_categorical_accuracy: 0.3771 - lr: 0.0010\n",
      "Epoch 52/500\n",
      "321/321 [==============================] - 7s 22ms/step - loss: 1.0931 - sparse_categorical_accuracy: 0.3769 - val_loss: 1.0933 - val_sparse_categorical_accuracy: 0.3728 - lr: 0.0010\n",
      "Epoch 53/500\n",
      "321/321 [==============================] - 7s 22ms/step - loss: 1.0926 - sparse_categorical_accuracy: 0.3737 - val_loss: 1.1100 - val_sparse_categorical_accuracy: 0.3529 - lr: 0.0010\n",
      "Epoch 54/500\n",
      "321/321 [==============================] - 7s 22ms/step - loss: 1.0925 - sparse_categorical_accuracy: 0.3772 - val_loss: 1.0945 - val_sparse_categorical_accuracy: 0.3728 - lr: 0.0010\n",
      "Epoch 55/500\n",
      "321/321 [==============================] - 7s 22ms/step - loss: 1.0925 - sparse_categorical_accuracy: 0.3794 - val_loss: 1.0950 - val_sparse_categorical_accuracy: 0.3759 - lr: 0.0010\n",
      "Epoch 56/500\n",
      "321/321 [==============================] - 7s 22ms/step - loss: 1.0926 - sparse_categorical_accuracy: 0.3745 - val_loss: 1.0942 - val_sparse_categorical_accuracy: 0.3674 - lr: 0.0010\n",
      "Epoch 57/500\n",
      "321/321 [==============================] - 7s 22ms/step - loss: 1.0925 - sparse_categorical_accuracy: 0.3778 - val_loss: 1.1179 - val_sparse_categorical_accuracy: 0.3580 - lr: 0.0010\n",
      "Epoch 58/500\n",
      "321/321 [==============================] - 7s 22ms/step - loss: 1.0935 - sparse_categorical_accuracy: 0.3739 - val_loss: 1.0942 - val_sparse_categorical_accuracy: 0.3658 - lr: 0.0010\n",
      "Epoch 59/500\n",
      "321/321 [==============================] - 7s 22ms/step - loss: 1.0929 - sparse_categorical_accuracy: 0.3773 - val_loss: 1.0980 - val_sparse_categorical_accuracy: 0.3650 - lr: 0.0010\n",
      "Epoch 60/500\n",
      "321/321 [==============================] - 7s 22ms/step - loss: 1.0929 - sparse_categorical_accuracy: 0.3800 - val_loss: 1.0939 - val_sparse_categorical_accuracy: 0.3818 - lr: 0.0010\n",
      "Epoch 61/500\n",
      "321/321 [==============================] - 7s 22ms/step - loss: 1.0915 - sparse_categorical_accuracy: 0.3791 - val_loss: 1.0930 - val_sparse_categorical_accuracy: 0.3650 - lr: 0.0010\n",
      "Epoch 62/500\n",
      "321/321 [==============================] - 7s 22ms/step - loss: 1.0890 - sparse_categorical_accuracy: 0.3841 - val_loss: 1.0946 - val_sparse_categorical_accuracy: 0.3751 - lr: 5.0000e-04\n",
      "Epoch 63/500\n",
      "321/321 [==============================] - 7s 22ms/step - loss: 1.0894 - sparse_categorical_accuracy: 0.3867 - val_loss: 1.0917 - val_sparse_categorical_accuracy: 0.3814 - lr: 5.0000e-04\n",
      "Epoch 64/500\n",
      "321/321 [==============================] - 7s 22ms/step - loss: 1.0898 - sparse_categorical_accuracy: 0.3843 - val_loss: 1.0962 - val_sparse_categorical_accuracy: 0.3677 - lr: 5.0000e-04\n",
      "Epoch 65/500\n",
      "321/321 [==============================] - 7s 22ms/step - loss: 1.0904 - sparse_categorical_accuracy: 0.3832 - val_loss: 1.0929 - val_sparse_categorical_accuracy: 0.3868 - lr: 5.0000e-04\n",
      "Epoch 66/500\n",
      "321/321 [==============================] - 7s 22ms/step - loss: 1.0901 - sparse_categorical_accuracy: 0.3782 - val_loss: 1.0928 - val_sparse_categorical_accuracy: 0.3755 - lr: 5.0000e-04\n",
      "Epoch 67/500\n",
      "321/321 [==============================] - 7s 22ms/step - loss: 1.0903 - sparse_categorical_accuracy: 0.3845 - val_loss: 1.0916 - val_sparse_categorical_accuracy: 0.3771 - lr: 5.0000e-04\n",
      "Epoch 68/500\n",
      "321/321 [==============================] - 7s 22ms/step - loss: 1.0903 - sparse_categorical_accuracy: 0.3819 - val_loss: 1.0929 - val_sparse_categorical_accuracy: 0.3713 - lr: 5.0000e-04\n",
      "Epoch 69/500\n",
      "321/321 [==============================] - 7s 22ms/step - loss: 1.0889 - sparse_categorical_accuracy: 0.3883 - val_loss: 1.0988 - val_sparse_categorical_accuracy: 0.3666 - lr: 5.0000e-04\n",
      "Epoch 70/500\n",
      "321/321 [==============================] - 7s 22ms/step - loss: 1.0901 - sparse_categorical_accuracy: 0.3857 - val_loss: 1.0941 - val_sparse_categorical_accuracy: 0.3716 - lr: 5.0000e-04\n",
      "Epoch 71/500\n",
      "321/321 [==============================] - 7s 22ms/step - loss: 1.0899 - sparse_categorical_accuracy: 0.3878 - val_loss: 1.0923 - val_sparse_categorical_accuracy: 0.3783 - lr: 5.0000e-04\n",
      "Epoch 72/500\n",
      "321/321 [==============================] - 7s 22ms/step - loss: 1.0895 - sparse_categorical_accuracy: 0.3792 - val_loss: 1.0947 - val_sparse_categorical_accuracy: 0.3693 - lr: 5.0000e-04\n",
      "Epoch 73/500\n",
      "321/321 [==============================] - 7s 22ms/step - loss: 1.0893 - sparse_categorical_accuracy: 0.3844 - val_loss: 1.0921 - val_sparse_categorical_accuracy: 0.3763 - lr: 5.0000e-04\n",
      "Epoch 74/500\n",
      "321/321 [==============================] - 7s 22ms/step - loss: 1.0905 - sparse_categorical_accuracy: 0.3846 - val_loss: 1.0937 - val_sparse_categorical_accuracy: 0.3736 - lr: 5.0000e-04\n",
      "Epoch 75/500\n",
      "321/321 [==============================] - 7s 22ms/step - loss: 1.0895 - sparse_categorical_accuracy: 0.3838 - val_loss: 1.0918 - val_sparse_categorical_accuracy: 0.3798 - lr: 5.0000e-04\n",
      "Epoch 76/500\n",
      "321/321 [==============================] - 7s 22ms/step - loss: 1.0892 - sparse_categorical_accuracy: 0.3844 - val_loss: 1.0924 - val_sparse_categorical_accuracy: 0.3845 - lr: 5.0000e-04\n",
      "Epoch 77/500\n",
      "321/321 [==============================] - 7s 22ms/step - loss: 1.0892 - sparse_categorical_accuracy: 0.3845 - val_loss: 1.0930 - val_sparse_categorical_accuracy: 0.3802 - lr: 5.0000e-04\n",
      "Epoch 78/500\n",
      "321/321 [==============================] - 7s 22ms/step - loss: 1.0896 - sparse_categorical_accuracy: 0.3842 - val_loss: 1.0930 - val_sparse_categorical_accuracy: 0.3732 - lr: 5.0000e-04\n",
      "Epoch 79/500\n",
      "321/321 [==============================] - 7s 22ms/step - loss: 1.0894 - sparse_categorical_accuracy: 0.3866 - val_loss: 1.0922 - val_sparse_categorical_accuracy: 0.3720 - lr: 5.0000e-04\n",
      "Epoch 80/500\n",
      "321/321 [==============================] - 7s 22ms/step - loss: 1.0890 - sparse_categorical_accuracy: 0.3910 - val_loss: 1.0936 - val_sparse_categorical_accuracy: 0.3790 - lr: 5.0000e-04\n",
      "Epoch 81/500\n",
      "321/321 [==============================] - 7s 22ms/step - loss: 1.0885 - sparse_categorical_accuracy: 0.3856 - val_loss: 1.0929 - val_sparse_categorical_accuracy: 0.3833 - lr: 5.0000e-04\n",
      "Epoch 82/500\n",
      "321/321 [==============================] - 7s 22ms/step - loss: 1.0893 - sparse_categorical_accuracy: 0.3840 - val_loss: 1.0953 - val_sparse_categorical_accuracy: 0.3740 - lr: 5.0000e-04\n",
      "Epoch 83/500\n",
      "321/321 [==============================] - 7s 22ms/step - loss: 1.0883 - sparse_categorical_accuracy: 0.3890 - val_loss: 1.0948 - val_sparse_categorical_accuracy: 0.3748 - lr: 5.0000e-04\n",
      "Epoch 84/500\n",
      "321/321 [==============================] - 7s 22ms/step - loss: 1.0899 - sparse_categorical_accuracy: 0.3884 - val_loss: 1.0940 - val_sparse_categorical_accuracy: 0.3767 - lr: 5.0000e-04\n",
      "Epoch 85/500\n",
      "321/321 [==============================] - 7s 22ms/step - loss: 1.0888 - sparse_categorical_accuracy: 0.3898 - val_loss: 1.0976 - val_sparse_categorical_accuracy: 0.3802 - lr: 5.0000e-04\n",
      "Epoch 86/500\n",
      "321/321 [==============================] - 7s 22ms/step - loss: 1.0893 - sparse_categorical_accuracy: 0.3831 - val_loss: 1.0944 - val_sparse_categorical_accuracy: 0.3806 - lr: 5.0000e-04\n",
      "Epoch 87/500\n",
      "321/321 [==============================] - 7s 22ms/step - loss: 1.0887 - sparse_categorical_accuracy: 0.3891 - val_loss: 1.0963 - val_sparse_categorical_accuracy: 0.3763 - lr: 5.0000e-04\n",
      "Epoch 88/500\n",
      "321/321 [==============================] - 7s 22ms/step - loss: 1.0878 - sparse_categorical_accuracy: 0.3879 - val_loss: 1.0925 - val_sparse_categorical_accuracy: 0.3822 - lr: 2.5000e-04\n",
      "Epoch 89/500\n",
      "321/321 [==============================] - 7s 22ms/step - loss: 1.0872 - sparse_categorical_accuracy: 0.3990 - val_loss: 1.0922 - val_sparse_categorical_accuracy: 0.3798 - lr: 2.5000e-04\n",
      "Epoch 90/500\n",
      "321/321 [==============================] - 7s 22ms/step - loss: 1.0867 - sparse_categorical_accuracy: 0.3913 - val_loss: 1.0921 - val_sparse_categorical_accuracy: 0.3755 - lr: 2.5000e-04\n",
      "Epoch 91/500\n",
      "321/321 [==============================] - 7s 22ms/step - loss: 1.0880 - sparse_categorical_accuracy: 0.3876 - val_loss: 1.0922 - val_sparse_categorical_accuracy: 0.3814 - lr: 2.5000e-04\n",
      "Epoch 92/500\n",
      "321/321 [==============================] - 7s 22ms/step - loss: 1.0872 - sparse_categorical_accuracy: 0.3871 - val_loss: 1.0918 - val_sparse_categorical_accuracy: 0.3759 - lr: 2.5000e-04\n",
      "Epoch 93/500\n",
      "321/321 [==============================] - 7s 22ms/step - loss: 1.0872 - sparse_categorical_accuracy: 0.3903 - val_loss: 1.0924 - val_sparse_categorical_accuracy: 0.3818 - lr: 2.5000e-04\n",
      "Epoch 94/500\n",
      "321/321 [==============================] - 7s 22ms/step - loss: 1.0871 - sparse_categorical_accuracy: 0.3900 - val_loss: 1.0919 - val_sparse_categorical_accuracy: 0.3779 - lr: 2.5000e-04\n",
      "Epoch 95/500\n",
      "321/321 [==============================] - 7s 22ms/step - loss: 1.0876 - sparse_categorical_accuracy: 0.3915 - val_loss: 1.0927 - val_sparse_categorical_accuracy: 0.3837 - lr: 2.5000e-04\n",
      "Epoch 96/500\n",
      "321/321 [==============================] - 7s 22ms/step - loss: 1.0870 - sparse_categorical_accuracy: 0.3929 - val_loss: 1.0915 - val_sparse_categorical_accuracy: 0.3802 - lr: 2.5000e-04\n",
      "Epoch 97/500\n",
      "321/321 [==============================] - 7s 22ms/step - loss: 1.0871 - sparse_categorical_accuracy: 0.3881 - val_loss: 1.0918 - val_sparse_categorical_accuracy: 0.3802 - lr: 2.5000e-04\n",
      "Epoch 98/500\n",
      "321/321 [==============================] - 7s 22ms/step - loss: 1.0870 - sparse_categorical_accuracy: 0.3910 - val_loss: 1.0932 - val_sparse_categorical_accuracy: 0.3798 - lr: 2.5000e-04\n",
      "Epoch 99/500\n",
      "321/321 [==============================] - 7s 22ms/step - loss: 1.0875 - sparse_categorical_accuracy: 0.3891 - val_loss: 1.0919 - val_sparse_categorical_accuracy: 0.3849 - lr: 2.5000e-04\n",
      "Epoch 100/500\n",
      "321/321 [==============================] - 7s 22ms/step - loss: 1.0873 - sparse_categorical_accuracy: 0.3883 - val_loss: 1.0916 - val_sparse_categorical_accuracy: 0.3810 - lr: 2.5000e-04\n",
      "Epoch 101/500\n",
      "321/321 [==============================] - 7s 22ms/step - loss: 1.0874 - sparse_categorical_accuracy: 0.3875 - val_loss: 1.0946 - val_sparse_categorical_accuracy: 0.3709 - lr: 2.5000e-04\n",
      "Epoch 102/500\n",
      "321/321 [==============================] - 7s 22ms/step - loss: 1.0873 - sparse_categorical_accuracy: 0.3897 - val_loss: 1.0912 - val_sparse_categorical_accuracy: 0.3810 - lr: 2.5000e-04\n",
      "Epoch 103/500\n",
      "321/321 [==============================] - 7s 22ms/step - loss: 1.0868 - sparse_categorical_accuracy: 0.3890 - val_loss: 1.0918 - val_sparse_categorical_accuracy: 0.3771 - lr: 2.5000e-04\n",
      "Epoch 104/500\n",
      "321/321 [==============================] - 7s 22ms/step - loss: 1.0870 - sparse_categorical_accuracy: 0.3926 - val_loss: 1.0921 - val_sparse_categorical_accuracy: 0.3740 - lr: 2.5000e-04\n",
      "Epoch 105/500\n",
      "321/321 [==============================] - 7s 22ms/step - loss: 1.0871 - sparse_categorical_accuracy: 0.3921 - val_loss: 1.0911 - val_sparse_categorical_accuracy: 0.3837 - lr: 2.5000e-04\n",
      "Epoch 106/500\n",
      "321/321 [==============================] - 7s 22ms/step - loss: 1.0873 - sparse_categorical_accuracy: 0.3920 - val_loss: 1.0927 - val_sparse_categorical_accuracy: 0.3857 - lr: 2.5000e-04\n",
      "Epoch 107/500\n",
      "321/321 [==============================] - 7s 22ms/step - loss: 1.0876 - sparse_categorical_accuracy: 0.3885 - val_loss: 1.0934 - val_sparse_categorical_accuracy: 0.3822 - lr: 2.5000e-04\n",
      "Epoch 108/500\n",
      "321/321 [==============================] - 7s 22ms/step - loss: 1.0868 - sparse_categorical_accuracy: 0.3861 - val_loss: 1.0926 - val_sparse_categorical_accuracy: 0.3790 - lr: 2.5000e-04\n",
      "Epoch 109/500\n",
      "321/321 [==============================] - 7s 22ms/step - loss: 1.0869 - sparse_categorical_accuracy: 0.3881 - val_loss: 1.0926 - val_sparse_categorical_accuracy: 0.3833 - lr: 2.5000e-04\n",
      "Epoch 110/500\n",
      "321/321 [==============================] - 7s 22ms/step - loss: 1.0862 - sparse_categorical_accuracy: 0.3879 - val_loss: 1.0950 - val_sparse_categorical_accuracy: 0.3763 - lr: 2.5000e-04\n",
      "Epoch 111/500\n",
      "321/321 [==============================] - 7s 22ms/step - loss: 1.0872 - sparse_categorical_accuracy: 0.3939 - val_loss: 1.0915 - val_sparse_categorical_accuracy: 0.3790 - lr: 2.5000e-04\n",
      "Epoch 112/500\n",
      "321/321 [==============================] - 7s 22ms/step - loss: 1.0870 - sparse_categorical_accuracy: 0.3916 - val_loss: 1.0927 - val_sparse_categorical_accuracy: 0.3841 - lr: 2.5000e-04\n",
      "Epoch 113/500\n",
      "321/321 [==============================] - 7s 22ms/step - loss: 1.0857 - sparse_categorical_accuracy: 0.3892 - val_loss: 1.0941 - val_sparse_categorical_accuracy: 0.3798 - lr: 2.5000e-04\n",
      "Epoch 114/500\n",
      "321/321 [==============================] - 7s 22ms/step - loss: 1.0873 - sparse_categorical_accuracy: 0.3901 - val_loss: 1.0912 - val_sparse_categorical_accuracy: 0.3857 - lr: 2.5000e-04\n",
      "Epoch 115/500\n",
      "321/321 [==============================] - 7s 22ms/step - loss: 1.0868 - sparse_categorical_accuracy: 0.3877 - val_loss: 1.0925 - val_sparse_categorical_accuracy: 0.3822 - lr: 2.5000e-04\n",
      "Epoch 116/500\n",
      "321/321 [==============================] - 7s 22ms/step - loss: 1.0862 - sparse_categorical_accuracy: 0.3924 - val_loss: 1.0920 - val_sparse_categorical_accuracy: 0.3783 - lr: 2.5000e-04\n",
      "Epoch 117/500\n",
      "321/321 [==============================] - 7s 22ms/step - loss: 1.0863 - sparse_categorical_accuracy: 0.3938 - val_loss: 1.0914 - val_sparse_categorical_accuracy: 0.3787 - lr: 2.5000e-04\n",
      "Epoch 118/500\n",
      "321/321 [==============================] - 7s 22ms/step - loss: 1.0873 - sparse_categorical_accuracy: 0.3921 - val_loss: 1.0912 - val_sparse_categorical_accuracy: 0.3787 - lr: 2.5000e-04\n",
      "Epoch 119/500\n",
      "321/321 [==============================] - 7s 22ms/step - loss: 1.0863 - sparse_categorical_accuracy: 0.3893 - val_loss: 1.0931 - val_sparse_categorical_accuracy: 0.3822 - lr: 2.5000e-04\n",
      "Epoch 120/500\n",
      "321/321 [==============================] - 7s 22ms/step - loss: 1.0871 - sparse_categorical_accuracy: 0.3906 - val_loss: 1.0922 - val_sparse_categorical_accuracy: 0.3829 - lr: 2.5000e-04\n",
      "Epoch 121/500\n",
      "321/321 [==============================] - 7s 22ms/step - loss: 1.0868 - sparse_categorical_accuracy: 0.3893 - val_loss: 1.0946 - val_sparse_categorical_accuracy: 0.3845 - lr: 2.5000e-04\n",
      "Epoch 122/500\n",
      "321/321 [==============================] - 7s 22ms/step - loss: 1.0870 - sparse_categorical_accuracy: 0.3917 - val_loss: 1.0927 - val_sparse_categorical_accuracy: 0.3767 - lr: 2.5000e-04\n",
      "Epoch 123/500\n",
      "321/321 [==============================] - 7s 22ms/step - loss: 1.0865 - sparse_categorical_accuracy: 0.3935 - val_loss: 1.0922 - val_sparse_categorical_accuracy: 0.3829 - lr: 1.2500e-04\n",
      "Epoch 124/500\n",
      "321/321 [==============================] - 7s 22ms/step - loss: 1.0856 - sparse_categorical_accuracy: 0.3920 - val_loss: 1.0925 - val_sparse_categorical_accuracy: 0.3837 - lr: 1.2500e-04\n"
     ]
    },
    {
     "name": "stdout",
     "output_type": "stream",
     "text": [
      "Epoch 125/500\n",
      "321/321 [==============================] - 7s 22ms/step - loss: 1.0855 - sparse_categorical_accuracy: 0.3930 - val_loss: 1.0926 - val_sparse_categorical_accuracy: 0.3849 - lr: 1.2500e-04\n",
      "Epoch 126/500\n",
      "321/321 [==============================] - 7s 22ms/step - loss: 1.0847 - sparse_categorical_accuracy: 0.3941 - val_loss: 1.0910 - val_sparse_categorical_accuracy: 0.3794 - lr: 1.2500e-04\n",
      "Epoch 127/500\n",
      "321/321 [==============================] - 7s 22ms/step - loss: 1.0855 - sparse_categorical_accuracy: 0.3910 - val_loss: 1.0914 - val_sparse_categorical_accuracy: 0.3872 - lr: 1.2500e-04\n",
      "Epoch 128/500\n",
      "321/321 [==============================] - 7s 22ms/step - loss: 1.0859 - sparse_categorical_accuracy: 0.3913 - val_loss: 1.0918 - val_sparse_categorical_accuracy: 0.3872 - lr: 1.2500e-04\n",
      "Epoch 129/500\n",
      "321/321 [==============================] - 7s 22ms/step - loss: 1.0856 - sparse_categorical_accuracy: 0.3955 - val_loss: 1.0922 - val_sparse_categorical_accuracy: 0.3857 - lr: 1.2500e-04\n",
      "Epoch 130/500\n",
      "321/321 [==============================] - 7s 22ms/step - loss: 1.0854 - sparse_categorical_accuracy: 0.3914 - val_loss: 1.0918 - val_sparse_categorical_accuracy: 0.3833 - lr: 1.2500e-04\n",
      "Epoch 131/500\n",
      "321/321 [==============================] - 7s 22ms/step - loss: 1.0851 - sparse_categorical_accuracy: 0.3951 - val_loss: 1.0921 - val_sparse_categorical_accuracy: 0.3818 - lr: 1.2500e-04\n",
      "Epoch 132/500\n",
      "321/321 [==============================] - 7s 22ms/step - loss: 1.0853 - sparse_categorical_accuracy: 0.3973 - val_loss: 1.0917 - val_sparse_categorical_accuracy: 0.3814 - lr: 1.2500e-04\n",
      "Epoch 133/500\n",
      "321/321 [==============================] - 7s 22ms/step - loss: 1.0855 - sparse_categorical_accuracy: 0.3950 - val_loss: 1.0916 - val_sparse_categorical_accuracy: 0.3864 - lr: 1.2500e-04\n",
      "Epoch 134/500\n",
      "321/321 [==============================] - 7s 22ms/step - loss: 1.0853 - sparse_categorical_accuracy: 0.3955 - val_loss: 1.0924 - val_sparse_categorical_accuracy: 0.3884 - lr: 1.2500e-04\n",
      "Epoch 135/500\n",
      "321/321 [==============================] - 7s 22ms/step - loss: 1.0861 - sparse_categorical_accuracy: 0.3948 - val_loss: 1.0914 - val_sparse_categorical_accuracy: 0.3794 - lr: 1.2500e-04\n",
      "Epoch 136/500\n",
      "321/321 [==============================] - 7s 22ms/step - loss: 1.0865 - sparse_categorical_accuracy: 0.3926 - val_loss: 1.0919 - val_sparse_categorical_accuracy: 0.3814 - lr: 1.2500e-04\n",
      "Epoch 137/500\n",
      "321/321 [==============================] - 7s 22ms/step - loss: 1.0851 - sparse_categorical_accuracy: 0.3958 - val_loss: 1.0917 - val_sparse_categorical_accuracy: 0.3790 - lr: 1.2500e-04\n",
      "Epoch 138/500\n",
      "321/321 [==============================] - 7s 22ms/step - loss: 1.0856 - sparse_categorical_accuracy: 0.3958 - val_loss: 1.0926 - val_sparse_categorical_accuracy: 0.3825 - lr: 1.2500e-04\n",
      "Epoch 139/500\n",
      "321/321 [==============================] - 7s 22ms/step - loss: 1.0845 - sparse_categorical_accuracy: 0.3929 - val_loss: 1.0921 - val_sparse_categorical_accuracy: 0.3779 - lr: 1.2500e-04\n",
      "Epoch 140/500\n",
      "321/321 [==============================] - 7s 22ms/step - loss: 1.0856 - sparse_categorical_accuracy: 0.3934 - val_loss: 1.0914 - val_sparse_categorical_accuracy: 0.3822 - lr: 1.2500e-04\n",
      "Epoch 141/500\n",
      "321/321 [==============================] - 7s 22ms/step - loss: 1.0851 - sparse_categorical_accuracy: 0.3941 - val_loss: 1.0921 - val_sparse_categorical_accuracy: 0.3794 - lr: 1.2500e-04\n",
      "Epoch 142/500\n",
      "321/321 [==============================] - 7s 22ms/step - loss: 1.0846 - sparse_categorical_accuracy: 0.3938 - val_loss: 1.0915 - val_sparse_categorical_accuracy: 0.3810 - lr: 1.2500e-04\n",
      "Epoch 143/500\n",
      "321/321 [==============================] - 7s 22ms/step - loss: 1.0846 - sparse_categorical_accuracy: 0.3931 - val_loss: 1.0932 - val_sparse_categorical_accuracy: 0.3861 - lr: 1.2500e-04\n",
      "Epoch 144/500\n",
      "321/321 [==============================] - 7s 22ms/step - loss: 1.0862 - sparse_categorical_accuracy: 0.3908 - val_loss: 1.0918 - val_sparse_categorical_accuracy: 0.3787 - lr: 1.2500e-04\n",
      "Epoch 145/500\n",
      "321/321 [==============================] - 7s 22ms/step - loss: 1.0848 - sparse_categorical_accuracy: 0.3969 - val_loss: 1.0921 - val_sparse_categorical_accuracy: 0.3833 - lr: 1.2500e-04\n",
      "Epoch 146/500\n",
      "321/321 [==============================] - 7s 22ms/step - loss: 1.0845 - sparse_categorical_accuracy: 0.3948 - val_loss: 1.0936 - val_sparse_categorical_accuracy: 0.3814 - lr: 1.2500e-04\n",
      "Epoch 147/500\n",
      "321/321 [==============================] - 7s 22ms/step - loss: 1.0849 - sparse_categorical_accuracy: 0.3980 - val_loss: 1.0925 - val_sparse_categorical_accuracy: 0.3868 - lr: 1.0000e-04\n",
      "Epoch 148/500\n",
      "321/321 [==============================] - 7s 22ms/step - loss: 1.0842 - sparse_categorical_accuracy: 0.3950 - val_loss: 1.0915 - val_sparse_categorical_accuracy: 0.3806 - lr: 1.0000e-04\n",
      "Epoch 149/500\n",
      "321/321 [==============================] - 7s 22ms/step - loss: 1.0839 - sparse_categorical_accuracy: 0.3964 - val_loss: 1.0913 - val_sparse_categorical_accuracy: 0.3822 - lr: 1.0000e-04\n",
      "Epoch 150/500\n",
      "321/321 [==============================] - 7s 22ms/step - loss: 1.0846 - sparse_categorical_accuracy: 0.3982 - val_loss: 1.0912 - val_sparse_categorical_accuracy: 0.3853 - lr: 1.0000e-04\n",
      "Epoch 151/500\n",
      "321/321 [==============================] - 7s 22ms/step - loss: 1.0851 - sparse_categorical_accuracy: 0.3983 - val_loss: 1.0920 - val_sparse_categorical_accuracy: 0.3857 - lr: 1.0000e-04\n",
      "Epoch 152/500\n",
      "321/321 [==============================] - 7s 22ms/step - loss: 1.0836 - sparse_categorical_accuracy: 0.3959 - val_loss: 1.0929 - val_sparse_categorical_accuracy: 0.3829 - lr: 1.0000e-04\n",
      "Epoch 153/500\n",
      "321/321 [==============================] - 7s 22ms/step - loss: 1.0844 - sparse_categorical_accuracy: 0.3964 - val_loss: 1.0923 - val_sparse_categorical_accuracy: 0.3892 - lr: 1.0000e-04\n",
      "Epoch 154/500\n",
      "321/321 [==============================] - 7s 22ms/step - loss: 1.0850 - sparse_categorical_accuracy: 0.3952 - val_loss: 1.0917 - val_sparse_categorical_accuracy: 0.3818 - lr: 1.0000e-04\n",
      "Epoch 155/500\n",
      "321/321 [==============================] - 7s 22ms/step - loss: 1.0848 - sparse_categorical_accuracy: 0.3916 - val_loss: 1.0919 - val_sparse_categorical_accuracy: 0.3841 - lr: 1.0000e-04\n",
      "Epoch 156/500\n",
      "321/321 [==============================] - 7s 22ms/step - loss: 1.0843 - sparse_categorical_accuracy: 0.3981 - val_loss: 1.0916 - val_sparse_categorical_accuracy: 0.3825 - lr: 1.0000e-04\n",
      "Epoch 157/500\n",
      "321/321 [==============================] - 7s 22ms/step - loss: 1.0844 - sparse_categorical_accuracy: 0.3959 - val_loss: 1.0921 - val_sparse_categorical_accuracy: 0.3868 - lr: 1.0000e-04\n",
      "Epoch 158/500\n",
      "321/321 [==============================] - 7s 22ms/step - loss: 1.0846 - sparse_categorical_accuracy: 0.3905 - val_loss: 1.0912 - val_sparse_categorical_accuracy: 0.3837 - lr: 1.0000e-04\n",
      "Epoch 159/500\n",
      "321/321 [==============================] - 7s 22ms/step - loss: 1.0850 - sparse_categorical_accuracy: 0.3940 - val_loss: 1.0921 - val_sparse_categorical_accuracy: 0.3829 - lr: 1.0000e-04\n",
      "Epoch 160/500\n",
      "321/321 [==============================] - 7s 22ms/step - loss: 1.0844 - sparse_categorical_accuracy: 0.3940 - val_loss: 1.0911 - val_sparse_categorical_accuracy: 0.3872 - lr: 1.0000e-04\n",
      "Epoch 161/500\n",
      "321/321 [==============================] - 7s 22ms/step - loss: 1.0847 - sparse_categorical_accuracy: 0.3942 - val_loss: 1.0913 - val_sparse_categorical_accuracy: 0.3825 - lr: 1.0000e-04\n",
      "Epoch 162/500\n",
      "321/321 [==============================] - 7s 22ms/step - loss: 1.0842 - sparse_categorical_accuracy: 0.3977 - val_loss: 1.0917 - val_sparse_categorical_accuracy: 0.3818 - lr: 1.0000e-04\n",
      "Epoch 163/500\n",
      "321/321 [==============================] - 7s 22ms/step - loss: 1.0831 - sparse_categorical_accuracy: 0.3950 - val_loss: 1.0916 - val_sparse_categorical_accuracy: 0.3876 - lr: 1.0000e-04\n",
      "Epoch 164/500\n",
      "321/321 [==============================] - 7s 22ms/step - loss: 1.0842 - sparse_categorical_accuracy: 0.3967 - val_loss: 1.0916 - val_sparse_categorical_accuracy: 0.3845 - lr: 1.0000e-04\n",
      "Epoch 165/500\n",
      "321/321 [==============================] - 7s 22ms/step - loss: 1.0848 - sparse_categorical_accuracy: 0.3932 - val_loss: 1.0913 - val_sparse_categorical_accuracy: 0.3833 - lr: 1.0000e-04\n"
     ]
    },
    {
     "name": "stdout",
     "output_type": "stream",
     "text": [
      "Epoch 166/500\n",
      "321/321 [==============================] - 7s 22ms/step - loss: 1.0843 - sparse_categorical_accuracy: 0.3952 - val_loss: 1.0915 - val_sparse_categorical_accuracy: 0.3822 - lr: 1.0000e-04\n",
      "Epoch 167/500\n",
      "321/321 [==============================] - 7s 22ms/step - loss: 1.0844 - sparse_categorical_accuracy: 0.3942 - val_loss: 1.0911 - val_sparse_categorical_accuracy: 0.3825 - lr: 1.0000e-04\n",
      "Epoch 168/500\n",
      "321/321 [==============================] - 7s 22ms/step - loss: 1.0848 - sparse_categorical_accuracy: 0.3955 - val_loss: 1.0914 - val_sparse_categorical_accuracy: 0.3845 - lr: 1.0000e-04\n",
      "Epoch 169/500\n",
      "321/321 [==============================] - 7s 22ms/step - loss: 1.0846 - sparse_categorical_accuracy: 0.3924 - val_loss: 1.0918 - val_sparse_categorical_accuracy: 0.3896 - lr: 1.0000e-04\n",
      "Epoch 170/500\n",
      "321/321 [==============================] - 7s 22ms/step - loss: 1.0847 - sparse_categorical_accuracy: 0.3939 - val_loss: 1.0911 - val_sparse_categorical_accuracy: 0.3864 - lr: 1.0000e-04\n",
      "Epoch 171/500\n",
      "321/321 [==============================] - 7s 22ms/step - loss: 1.0850 - sparse_categorical_accuracy: 0.3922 - val_loss: 1.0913 - val_sparse_categorical_accuracy: 0.3845 - lr: 1.0000e-04\n",
      "Epoch 172/500\n",
      "321/321 [==============================] - 7s 22ms/step - loss: 1.0843 - sparse_categorical_accuracy: 0.3986 - val_loss: 1.0917 - val_sparse_categorical_accuracy: 0.3868 - lr: 1.0000e-04\n",
      "Epoch 173/500\n",
      "321/321 [==============================] - 7s 22ms/step - loss: 1.0841 - sparse_categorical_accuracy: 0.3972 - val_loss: 1.0927 - val_sparse_categorical_accuracy: 0.3853 - lr: 1.0000e-04\n",
      "Epoch 174/500\n",
      "321/321 [==============================] - 7s 22ms/step - loss: 1.0841 - sparse_categorical_accuracy: 0.3960 - val_loss: 1.0916 - val_sparse_categorical_accuracy: 0.3814 - lr: 1.0000e-04\n",
      "Epoch 175/500\n",
      "321/321 [==============================] - 7s 22ms/step - loss: 1.0843 - sparse_categorical_accuracy: 0.3966 - val_loss: 1.0920 - val_sparse_categorical_accuracy: 0.3802 - lr: 1.0000e-04\n",
      "Epoch 176/500\n",
      "321/321 [==============================] - 7s 22ms/step - loss: 1.0850 - sparse_categorical_accuracy: 0.3915 - val_loss: 1.0915 - val_sparse_categorical_accuracy: 0.3876 - lr: 1.0000e-04\n",
      "Epoch 176: early stopping\n"
     ]
    }
   ],
   "source": [
    "epochs = 500\n",
    "batch_size = 32\n",
    "\n",
    "callbacks = [\n",
    "    keras.callbacks.ModelCheckpoint(\n",
    "        \"best_model_v2_data2.h5\", save_best_only=True, monitor=\"val_loss\"\n",
    "    ),\n",
    "    keras.callbacks.ReduceLROnPlateau(\n",
    "        monitor=\"val_loss\", factor=0.5, patience=20, min_lr=0.0001\n",
    "    ),\n",
    "    keras.callbacks.EarlyStopping(monitor=\"val_loss\", patience=50, verbose=1),\n",
    "]\n",
    "model.compile(\n",
    "    optimizer=\"adam\",\n",
    "    loss=\"sparse_categorical_crossentropy\",\n",
    "    metrics=[\"sparse_categorical_accuracy\"],\n",
    ")\n",
    "history = model.fit(\n",
    "    x_train,\n",
    "    y_train,\n",
    "    batch_size=batch_size,\n",
    "    epochs=epochs,\n",
    "    callbacks=callbacks,\n",
    "    validation_split=0.2,\n",
    "    verbose=1,\n",
    ")"
   ]
  },
  {
   "cell_type": "code",
   "execution_count": 17,
   "id": "8db559f9",
   "metadata": {},
   "outputs": [
    {
     "name": "stdout",
     "output_type": "stream",
     "text": [
      "198/198 [==============================] - 1s 4ms/step - loss: 1.0887 - sparse_categorical_accuracy: 0.3778\n",
      "Test accuracy 0.37778833508491516\n",
      "Test loss 1.0886636972427368\n"
     ]
    }
   ],
   "source": [
    "model = keras.models.load_model(\"best_model_v2_data2.h5\")\n",
    "\n",
    "test_loss, test_acc = model.evaluate(x_test, y_test)\n",
    "\n",
    "print(\"Test accuracy\", test_acc)\n",
    "print(\"Test loss\", test_loss)"
   ]
  },
  {
   "cell_type": "code",
   "execution_count": 18,
   "id": "c5eb19ce",
   "metadata": {},
   "outputs": [
    {
     "data": {
      "image/png": "[encoded data removed]",
      "text/plain": [
       "<Figure size 432x288 with 1 Axes>"
      ]
     },
     "metadata": {
      "needs_background": "light"
     },
     "output_type": "display_data"
    }
   ],
   "source": [
    "metric = \"sparse_categorical_accuracy\"\n",
    "plt.figure()\n",
    "plt.plot(history.history[metric])\n",
    "plt.plot(history.history[\"val_\" + metric])\n",
    "plt.title(\"model \" + metric)\n",
    "plt.ylabel(metric, fontsize=\"large\")\n",
    "plt.xlabel(\"epoch\", fontsize=\"large\")\n",
    "plt.legend([\"train\", \"val\"], loc=\"best\")\n",
    "plt.show()\n",
    "plt.close()"
   ]
  },
  {
   "cell_type": "code",
   "execution_count": 19,
   "id": "eb86cce4",
   "metadata": {},
   "outputs": [
    {
     "name": "stdout",
     "output_type": "stream",
     "text": [
      "198/198 [==============================] - 1s 4ms/step\n"
     ]
    }
   ],
   "source": [
    "y = model.predict(x_test)"
   ]
  },
  {
   "cell_type": "code",
   "execution_count": 20,
   "id": "2ddf0f6b",
   "metadata": {},
   "outputs": [],
   "source": [
    "def myprint(i):\n",
    "    global y\n",
    "    global y_test\n",
    "    print(y[i])\n",
    "    print(y_test[i])"
   ]
  },
  {
   "cell_type": "code",
   "execution_count": null,
   "id": "7bcf67dc",
   "metadata": {},
   "outputs": [],
   "source": []
  },
  {
   "cell_type": "code",
   "execution_count": 21,
   "id": "f8d3d771",
   "metadata": {},
   "outputs": [
    {
     "name": "stdout",
     "output_type": "stream",
     "text": [
      "[0.300637   0.3484316  0.35093147]\n",
      "2\n"
     ]
    }
   ],
   "source": [
    "myprint(902)"
   ]
  },
  {
   "cell_type": "code",
   "execution_count": 22,
   "id": "0e04bc83",
   "metadata": {},
   "outputs": [
    {
     "data": {
      "text/plain": [
       "<BarContainer object of 50 artists>"
      ]
     },
     "execution_count": 22,
     "metadata": {},
     "output_type": "execute_result"
    },
    {
     "data": {
      "image/png": "[encoded data removed]",
      "text/plain": [
       "<Figure size 432x288 with 1 Axes>"
      ]
     },
     "metadata": {
      "needs_background": "light"
     },
     "output_type": "display_data"
    }
   ],
   "source": [
    "hist = np.histogram(y_train,bins=50)[0]\n",
    "plt.bar(np.linspace(y_train.min(),y_train.max()),hist)"
   ]
  },
  {
   "cell_type": "code",
   "execution_count": 23,
   "id": "1d2028b2",
   "metadata": {},
   "outputs": [
    {
     "data": {
      "text/plain": [
       "<BarContainer object of 50 artists>"
      ]
     },
     "execution_count": 23,
     "metadata": {},
     "output_type": "execute_result"
    },
    {
     "data": {
      "image/png": "[encoded data removed]",
      "text/plain": [
       "<Figure size 432x288 with 1 Axes>"
      ]
     },
     "metadata": {
      "needs_background": "light"
     },
     "output_type": "display_data"
    }
   ],
   "source": [
    "hist = np.histogram(y_test,bins=50)[0]\n",
    "plt.bar(np.linspace(y_test.min(),y_test.max()),hist)"
   ]
  },
  {
   "cell_type": "code",
   "execution_count": null,
   "id": "d9115a8d",
   "metadata": {},
   "outputs": [],
   "source": []
  }
 ],
 "metadata": {
  "kernelspec": {
   "display_name": "Python 3 (ipykernel)",
   "language": "python",
   "name": "python3"
  },
  "language_info": {
   "codemirror_mode": {
    "name": "ipython",
    "version": 3
   },
   "file_extension": ".py",
   "mimetype": "text/x-python",
   "name": "python",
   "nbconvert_exporter": "python",
   "pygments_lexer": "ipython3",
   "version": "3.9.12"
  }
 },
 "nbformat": 4,
 "nbformat_minor": 5
}
